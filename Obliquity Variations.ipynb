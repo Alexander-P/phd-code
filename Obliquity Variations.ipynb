{
 "cells": [
  {
   "cell_type": "code",
   "execution_count": 1,
   "metadata": {
    "collapsed": true
   },
   "outputs": [],
   "source": [
    "%matplotlib inline\n",
    "import numpy as np\n",
    "import scipy.ndimage\n",
    "from mpl_toolkits.axes_grid1 import make_axes_locatable\n",
    "import matplotlib.pyplot as plt\n",
    "import matplotlib\n",
    "import xarray as xr\n",
    "import pandas as pd\n",
    "import dask\n",
    "import os.path\n",
    "from __future__ import division\n",
    "matplotlib.rcParams['figure.figsize'] = (8.0, 6.0)\n",
    "matplotlib.rcParams['contour.negative_linestyle']= 'dashed'\n",
    "plt.rcParams['image.cmap'] = 'RdBu'\n",
    "\n",
    "from progress_bar import *\n",
    "from useful import *\n",
    "\n",
    "global data_dir\n",
    "data_dir = '/scratch/ap587/dry_data/'"
   ]
  },
  {
   "cell_type": "code",
   "execution_count": 12,
   "metadata": {
    "collapsed": false
   },
   "outputs": [
    {
     "name": "stdout",
     "output_type": "stream",
     "text": [
      "[0.0, 10.0, 20.0, 30.0, 40.0, 50.0, 60.0, 70.0, 80.0, 90.0]\n",
      "[array(253.2895334903858), array(257.319808124437), array(261.7636769901512), array(264.3473299096683), array(266.83337090035934), array(268.2360426592158), array(268.9377084564918), array(269.0973809601704), array(269.04830015630426), array(269.00593791375695)]\n"
     ]
    },
    {
     "data": {
      "text/plain": [
       "<matplotlib.text.Text at 0x7f5cac033050>"
      ]
     },
     "execution_count": 12,
     "metadata": {},
     "output_type": "execute_result"
    },
    {
     "data": {
      "image/png": "[encoded data removed]",
      "text/plain": [
       "<matplotlib.figure.Figure at 0x7f5cac2983d0>"
      ]
     },
     "metadata": {},
     "output_type": "display_data"
    }
   ],
   "source": [
    "# Globally Averaged Surface Temperature\n",
    "e = 'exp9'\n",
    "exps = get_exps(data_dir+'processed/',e)\n",
    "\n",
    "hc = 20.0\n",
    "tmp = []\n",
    "obls = []\n",
    "\n",
    "for exp in exps:\n",
    "    if 'hc{:.1f}'.format(hc) in exp:\n",
    "        tmp.append(exp)\n",
    "        obls.append(float(exp[15:]))\n",
    "obls.sort()\n",
    "tmp.sort()\n",
    "exps = tmp\n",
    "\n",
    "surf_temp = []\n",
    "for exp in exps:\n",
    "    ds = open_zmean_runset(data_dir, exp)\n",
    "    ds = ds.isel(time=slice(720,None))\n",
    "    \n",
    "    surf_temp.append(ds.temp.isel(pfull=-1).mean('time').mean('lat').values)\n",
    "    \n",
    "print obls\n",
    "print surf_temp\n",
    "\n",
    "fig, ax = plt.subplots()\n",
    "ax.plot(obls, surf_temp, 'r.')\n",
    "ax.set_xlabel('Obliquity')\n",
    "ax.set_ylabel('Globally averaged surface temperature')"
   ]
  },
  {
   "cell_type": "code",
   "execution_count": 3,
   "metadata": {
    "collapsed": false
   },
   "outputs": [],
   "source": [
    "def calc_emf(ds):\n",
    "    '''\n",
    "    Eddy momentum flux calculation\n",
    "    Inputs:\n",
    "        ds: xarray dataset containing at minimum fields (ucomp, vcomp, ucomp_vcomp)\n",
    "    Outputs:\n",
    "        ds: modified dataset with emf fields added\n",
    "    '''\n",
    "    \n",
    "    uv = -86400. * (ds.ucomp_vcomp - ds.ucomp*ds.vcomp)\n",
    "    uv_dy = gr.ddy(uv, uv=True)\n",
    "    \n",
    "    uw = -86400. * (ds.ucomp_omega - ds.ucomp*ds.omega)\n",
    "    uw_dy = gr.ddp(uw)\n",
    "\n",
    "    \n",
    "    ds['uv'] = (('time', 'pfull', 'lat', 'lon'), uv)\n",
    "    ds['uv_dy'] = (('time', 'pfull', 'lat', 'lon'), uv_dy)\n",
    "    ds['uw'] = (('time', 'pfull', 'lat', 'lon'), uw)\n",
    "    ds['uw_dy'] = (('time', 'pfull', 'lat', 'lon'), uw_dy)   \n",
    "    return ds"
   ]
  },
  {
   "cell_type": "code",
   "execution_count": 2,
   "metadata": {
    "collapsed": false
   },
   "outputs": [
    {
     "data": {
      "text/plain": [
       "<xarray.Dataset>\n",
       "Dimensions:      (lat: 64, latb: 65, lon: 128, lonb: 129, pfull: 32, phalf: 33, time: 1800)\n",
       "Coordinates:\n",
       "  * phalf        (phalf) float64 0.0 31.25 62.5 93.75 125.0 156.2 187.5 ...\n",
       "  * latb         (latb) float64 -90.0 -86.58 -83.76 -80.96 -78.16 -75.36 ...\n",
       "  * lonb         (lonb) float64 -1.406 1.406 4.219 7.031 9.844 12.66 15.47 ...\n",
       "  * lon          (lon) float64 0.0 2.812 5.625 8.438 11.25 14.06 16.88 19.69 ...\n",
       "  * pfull        (pfull) float64 11.5 45.98 77.6 109.0 140.3 171.6 202.9 ...\n",
       "  * lat          (lat) float64 -87.86 -85.1 -82.31 -79.53 -76.74 -73.95 ...\n",
       "  * time         (time) float64 24.0 48.0 72.0 96.0 120.0 144.0 168.0 192.0 ...\n",
       "Data variables:\n",
       "    ucomp        (time, pfull, lat, lon) float64 -0.03338 -0.03211 -0.03089 ...\n",
       "    h_trop       (time, lat, lon) float64 5.531 5.531 5.531 5.531 5.531 ...\n",
       "    ucomp_omega  (time, pfull, lat, lon) float64 4.507e-07 4.315e-07 ...\n",
       "    vcomp        (time, pfull, lat, lon) float64 -0.02462 -0.0239 -0.02311 ...\n",
       "    height       (time, pfull, lat, lon) float64 3.422e+04 3.422e+04 ...\n",
       "    vor          (time, pfull, lat, lon) float64 3.406e-07 3.405e-07 ...\n",
       "    teq          (time, pfull, lat, lon) float64 216.6 216.6 216.6 216.6 ...\n",
       "    bk           (time, phalf) float64 0.0 0.03125 0.0625 0.09375 0.125 ...\n",
       "    omega        (time, pfull, lat, lon) float64 -1.35e-05 -1.344e-05 ...\n",
       "    ucomp_vcomp  (time, pfull, lat, lon) float64 0.0008217 0.0007674 ...\n",
       "    ps           (time, lat, lon) float64 1.002e+05 1.002e+05 1.002e+05 ...\n",
       "    temp         (time, pfull, lat, lon) float64 261.4 261.4 261.4 261.4 ...\n",
       "    ucomp_sq     (time, pfull, lat, lon) float64 0.001114 0.001031 0.000954 ...\n",
       "    div          (time, pfull, lat, lon) float64 7.884e-09 7.824e-09 ...\n",
       "Attributes:\n",
       "    grid_tile: N/A\n",
       "    filename: daily.nc\n",
       "    grid_type: regular\n",
       "    title: FMS Model results"
      ]
     },
     "execution_count": 2,
     "metadata": {},
     "output_type": "execute_result"
    }
   ],
   "source": [
    "exp = 'exp9v1_hc30.0-obl30.0'\n",
    "ds = open_runset(data_dir, exp, runs=range(0,100))\n",
    "ds"
   ]
  },
  {
   "cell_type": "code",
   "execution_count": 4,
   "metadata": {
    "collapsed": false
   },
   "outputs": [],
   "source": [
    "ds = calc_emf(ds)"
   ]
  }
 ],
 "metadata": {
  "kernelspec": {
   "display_name": "Python 2",
   "language": "python",
   "name": "python2"
  },
  "language_info": {
   "codemirror_mode": {
    "name": "ipython",
    "version": 2
   },
   "file_extension": ".py",
   "mimetype": "text/x-python",
   "name": "python",
   "nbconvert_exporter": "python",
   "pygments_lexer": "ipython2",
   "version": "2.7.11"
  }
 },
 "nbformat": 4,
 "nbformat_minor": 0
}
