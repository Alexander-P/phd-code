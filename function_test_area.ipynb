{
 "cells": [
  {
   "cell_type": "code",
   "execution_count": 1,
   "metadata": {
    "collapsed": true
   },
   "outputs": [],
   "source": [
    "%matplotlib inline\n",
    "import numpy as np\n",
    "import scipy.ndimage\n",
    "from mpl_toolkits.axes_grid1 import make_axes_locatable\n",
    "import matplotlib.pyplot as plt\n",
    "import matplotlib\n",
    "import xarray as xr\n",
    "import pandas as pd\n",
    "import dask\n",
    "import os.path\n",
    "from __future__ import division\n",
    "matplotlib.rcParams['figure.figsize'] = (8.0, 6.0)\n",
    "\n",
    "\n",
    "from useful import *\n",
    "\n",
    "global data_dir\n",
    "data_dir = '/scratch/ap587/dry_data/'"
   ]
  },
  {
   "cell_type": "code",
   "execution_count": 2,
   "metadata": {
    "collapsed": true
   },
   "outputs": [],
   "source": [
    "def check_spinup(data):\n",
    "    '''look at the temperature yearly means to check for equilibrium'''\n",
    "    pass"
   ]
  },
  {
   "cell_type": "code",
   "execution_count": 2,
   "metadata": {
    "collapsed": false
   },
   "outputs": [
    {
     "name": "stdout",
     "output_type": "stream",
     "text": [
      "<xarray.Dataset>\n",
      "Dimensions:  (lat: 64, latb: 65, lonb: 129, pfull: 32, phalf: 33, time: 1440)\n",
      "Coordinates:\n",
      "  * phalf    (phalf) float64 0.0 31.25 62.5 93.75 125.0 156.2 187.5 218.8 ...\n",
      "  * latb     (latb) float64 -90.0 -86.58 -83.76 -80.96 -78.16 -75.36 -72.57 ...\n",
      "  * lonb     (lonb) float64 -1.406 1.406 4.219 7.031 9.844 12.66 15.47 18.28 ...\n",
      "  * pfull    (pfull) float64 11.5 45.98 77.6 109.0 140.3 171.6 202.9 234.2 ...\n",
      "  * lat      (lat) float64 -87.86 -85.1 -82.31 -79.53 -76.74 -73.95 -71.16 ...\n",
      "  * time     (time) float64 720.0 721.0 722.0 723.0 724.0 725.0 726.0 727.0 ...\n",
      "Data variables:\n",
      "    ps       (time, lat) float64 9.943e+04 9.941e+04 9.936e+04 9.928e+04 ...\n",
      "    h_trop   (time, lat) float64 5.621 6.626 7.193 7.601 7.922 8.189 8.417 ...\n",
      "    temp     (time, pfull, lat) float64 199.5 199.4 199.3 199.3 199.4 199.8 ...\n",
      "    ucomp    (time, pfull, lat) float64 0.168 1.035 3.007 6.118 10.46 16.03 ...\n",
      "    vcomp    (time, pfull, lat) float64 -0.007415 -0.0174 -0.02693 -0.03418 ...\n",
      "    bk       (time, phalf) float64 0.0 0.03125 0.0625 0.09375 0.125 0.1562 ...\n",
      "    vor      (time, pfull, lat) float64 -2.04e-06 -6.414e-06 -1.17e-05 ...\n",
      "    teq      (time, pfull, lat) float64 200.0 200.0 200.0 200.0 200.0 200.0 ...\n",
      "    div      (time, pfull, lat) float64 -6.298e-08 -6.438e-08 -5.928e-08 ...\n",
      "    omega    (time, pfull, lat) float64 7.199e-05 7.335e-05 6.7e-05 ...\n",
      "    p_trop   (time, lat) float64 490.9 432.2 402.3 382.1 366.9 354.7 344.6 ...\n"
     ]
    }
   ],
   "source": [
    "exp = '4_HS_hc10.0/'\n",
    "runs = range(9,35)\n",
    "runset = open_runset(data_dir, exp,runs)   \n",
    "runset['p_trop'] = 1000*np.exp(-9.81/(287.04*270)*runset.h_trop*1000)\n",
    "c = runset.mean('lon')\n",
    "c.time.data = c.time.data/24 - 1\n",
    "\n",
    "print(c)"
   ]
  },
  {
   "cell_type": "code",
   "execution_count": 8,
   "metadata": {
    "collapsed": false
   },
   "outputs": [
    {
     "name": "stdout",
     "output_type": "stream",
     "text": [
      "236.060424902\n"
     ]
    }
   ],
   "source": [
    "a = np.zeros((4,5))\n",
    "print(c.temp.isel(time=-1).mean().values)"
   ]
  },
  {
   "cell_type": "code",
   "execution_count": 4,
   "metadata": {
    "collapsed": false
   },
   "outputs": [
    {
     "name": "stdout",
     "output_type": "stream",
     "text": [
      "<xarray.Dataset>\n",
      "Dimensions:  (lat: 64, latb: 65, lonb: 129, pfull: 32, phalf: 33, time: 1440)\n",
      "Coordinates:\n",
      "  * phalf    (phalf) float64 0.0 31.25 62.5 93.75 125.0 156.2 187.5 218.8 ...\n",
      "  * latb     (latb) float64 -90.0 -86.58 -83.76 -80.96 -78.16 -75.36 -72.57 ...\n",
      "  * lonb     (lonb) float64 -1.406 1.406 4.219 7.031 9.844 12.66 15.47 18.28 ...\n",
      "  * pfull    (pfull) float64 11.5 45.98 77.6 109.0 140.3 171.6 202.9 234.2 ...\n",
      "  * lat      (lat) float64 -87.86 -85.1 -82.31 -79.53 -76.74 -73.95 -71.16 ...\n",
      "  * time     (time) float64 720.0 721.0 722.0 723.0 724.0 725.0 726.0 727.0 ...\n",
      "    year     (time) float64 2.0 2.0 2.0 2.0 2.0 2.0 2.0 2.0 2.0 2.0 2.0 2.0 ...\n",
      "    day      (time) float64 0.0 1.0 2.0 3.0 4.0 5.0 6.0 7.0 8.0 9.0 10.0 ...\n",
      "Data variables:\n",
      "    ps       (time, lat) float64 9.943e+04 9.941e+04 9.936e+04 9.928e+04 ...\n",
      "    h_trop   (time, lat) float64 5.621 6.626 7.193 7.601 7.922 8.189 8.417 ...\n",
      "    temp     (time, pfull, lat) float64 199.5 199.4 199.3 199.3 199.4 199.8 ...\n",
      "    ucomp    (time, pfull, lat) float64 0.168 1.035 3.007 6.118 10.46 16.03 ...\n",
      "    vcomp    (time, pfull, lat) float64 -0.007415 -0.0174 -0.02693 -0.03418 ...\n",
      "    bk       (time, phalf) float64 0.0 0.03125 0.0625 0.09375 0.125 0.1562 ...\n",
      "    vor      (time, pfull, lat) float64 -2.04e-06 -6.414e-06 -1.17e-05 ...\n",
      "    teq      (time, pfull, lat) float64 200.0 200.0 200.0 200.0 200.0 200.0 ...\n",
      "    div      (time, pfull, lat) float64 -6.298e-08 -6.438e-08 -5.928e-08 ...\n",
      "    omega    (time, pfull, lat) float64 7.199e-05 7.335e-05 6.7e-05 ...\n",
      "    p_trop   (time, lat) float64 490.9 432.2 402.3 382.1 366.9 354.7 344.6 ...\n"
     ]
    }
   ],
   "source": [
    "c.coords['year'] = c.time//360\n",
    "c.coords['day'] = c.time%360\n",
    "#c.temp.groupby('year').mean('time').plot(x='lat',y='pfull',col='year', colwrap=3)\n",
    "print(c)\n"
   ]
  },
  {
   "cell_type": "code",
   "execution_count": 7,
   "metadata": {
    "collapsed": false
   },
   "outputs": [
    {
     "name": "stdout",
     "output_type": "stream",
     "text": [
      "<xarray.DataArray 'year' (time: 1440)>\n",
      "array([ 2.,  2.,  2., ...,  5.,  5.,  5.])\n",
      "Coordinates:\n",
      "  * time     (time) float64 720.0 721.0 722.0 723.0 724.0 725.0 726.0 727.0 ...\n",
      "    year     (time) float64 2.0 2.0 2.0 2.0 2.0 2.0 2.0 2.0 2.0 2.0 2.0 2.0 ...\n",
      "    day      (time) float64 0.0 1.0 2.0 3.0 4.0 5.0 6.0 7.0 8.0 9.0 10.0 ...\n"
     ]
    },
    {
     "ename": "ValueError",
     "evalue": "buffer source array is read-only",
     "output_type": "error",
     "traceback": [
      "\u001b[1;31m---------------------------------------------------------------------------\u001b[0m",
      "\u001b[1;31mValueError\u001b[0m                                Traceback (most recent call last)",
      "\u001b[1;32m<ipython-input-7-0be95cd17a9a>\u001b[0m in \u001b[0;36m<module>\u001b[1;34m()\u001b[0m\n\u001b[0;32m      1\u001b[0m \u001b[1;32mprint\u001b[0m\u001b[1;33m(\u001b[0m\u001b[0mc\u001b[0m\u001b[1;33m.\u001b[0m\u001b[0myear\u001b[0m\u001b[1;33m)\u001b[0m\u001b[1;33m\u001b[0m\u001b[0m\n\u001b[1;32m----> 2\u001b[1;33m \u001b[0md\u001b[0m \u001b[1;33m=\u001b[0m \u001b[0mc\u001b[0m\u001b[1;33m.\u001b[0m\u001b[0mgroupby\u001b[0m\u001b[1;33m(\u001b[0m\u001b[1;34m'year'\u001b[0m\u001b[1;33m)\u001b[0m\u001b[1;33m\u001b[0m\u001b[0m\n\u001b[0m\u001b[0;32m      3\u001b[0m \u001b[0md\u001b[0m \u001b[1;33m=\u001b[0m \u001b[0md\u001b[0m\u001b[1;33m.\u001b[0m\u001b[0mmean\u001b[0m\u001b[1;33m(\u001b[0m\u001b[1;34m'time'\u001b[0m\u001b[1;33m)\u001b[0m\u001b[1;33m.\u001b[0m\u001b[0misel\u001b[0m\u001b[1;33m(\u001b[0m\u001b[0mpfull\u001b[0m\u001b[1;33m=\u001b[0m\u001b[1;33m-\u001b[0m\u001b[1;36m1\u001b[0m\u001b[1;33m)\u001b[0m\u001b[1;33m\u001b[0m\u001b[0m\n\u001b[0;32m      4\u001b[0m \u001b[0mfig\u001b[0m\u001b[1;33m,\u001b[0m \u001b[0max\u001b[0m \u001b[1;33m=\u001b[0m \u001b[0mplt\u001b[0m\u001b[1;33m.\u001b[0m\u001b[0msubplots\u001b[0m\u001b[1;33m(\u001b[0m\u001b[1;33m)\u001b[0m\u001b[1;33m\u001b[0m\u001b[0m\n\u001b[0;32m      5\u001b[0m \u001b[1;32mfor\u001b[0m \u001b[0myearly_t\u001b[0m \u001b[1;32min\u001b[0m \u001b[0md\u001b[0m\u001b[1;33m:\u001b[0m\u001b[1;33m\u001b[0m\u001b[0m\n",
      "\u001b[1;32m/scratch/ap587/envs/ipyserv/lib/python2.7/site-packages/xarray/core/common.pyc\u001b[0m in \u001b[0;36mgroupby\u001b[1;34m(self, group, squeeze)\u001b[0m\n\u001b[0;32m    342\u001b[0m         \u001b[1;32mif\u001b[0m \u001b[0misinstance\u001b[0m\u001b[1;33m(\u001b[0m\u001b[0mgroup\u001b[0m\u001b[1;33m,\u001b[0m \u001b[0mbasestring\u001b[0m\u001b[1;33m)\u001b[0m\u001b[1;33m:\u001b[0m\u001b[1;33m\u001b[0m\u001b[0m\n\u001b[0;32m    343\u001b[0m             \u001b[0mgroup\u001b[0m \u001b[1;33m=\u001b[0m \u001b[0mself\u001b[0m\u001b[1;33m[\u001b[0m\u001b[0mgroup\u001b[0m\u001b[1;33m]\u001b[0m\u001b[1;33m\u001b[0m\u001b[0m\n\u001b[1;32m--> 344\u001b[1;33m         \u001b[1;32mreturn\u001b[0m \u001b[0mself\u001b[0m\u001b[1;33m.\u001b[0m\u001b[0mgroupby_cls\u001b[0m\u001b[1;33m(\u001b[0m\u001b[0mself\u001b[0m\u001b[1;33m,\u001b[0m \u001b[0mgroup\u001b[0m\u001b[1;33m,\u001b[0m \u001b[0msqueeze\u001b[0m\u001b[1;33m=\u001b[0m\u001b[0msqueeze\u001b[0m\u001b[1;33m)\u001b[0m\u001b[1;33m\u001b[0m\u001b[0m\n\u001b[0m\u001b[0;32m    345\u001b[0m \u001b[1;33m\u001b[0m\u001b[0m\n\u001b[0;32m    346\u001b[0m     \u001b[1;32mdef\u001b[0m \u001b[0mrolling\u001b[0m\u001b[1;33m(\u001b[0m\u001b[0mself\u001b[0m\u001b[1;33m,\u001b[0m \u001b[0mmin_periods\u001b[0m\u001b[1;33m=\u001b[0m\u001b[0mNone\u001b[0m\u001b[1;33m,\u001b[0m \u001b[0mcenter\u001b[0m\u001b[1;33m=\u001b[0m\u001b[0mFalse\u001b[0m\u001b[1;33m,\u001b[0m \u001b[1;33m**\u001b[0m\u001b[0mwindows\u001b[0m\u001b[1;33m)\u001b[0m\u001b[1;33m:\u001b[0m\u001b[1;33m\u001b[0m\u001b[0m\n",
      "\u001b[1;32m/scratch/ap587/envs/ipyserv/lib/python2.7/site-packages/xarray/core/groupby.pyc\u001b[0m in \u001b[0;36m__init__\u001b[1;34m(self, obj, group, squeeze, grouper)\u001b[0m\n\u001b[0;32m    149\u001b[0m         \u001b[1;32melse\u001b[0m\u001b[1;33m:\u001b[0m\u001b[1;33m\u001b[0m\u001b[0m\n\u001b[0;32m    150\u001b[0m             \u001b[1;31m# look through group to find the unique values\u001b[0m\u001b[1;33m\u001b[0m\u001b[1;33m\u001b[0m\u001b[0m\n\u001b[1;32m--> 151\u001b[1;33m             \u001b[0munique_values\u001b[0m\u001b[1;33m,\u001b[0m \u001b[0mgroup_indices\u001b[0m \u001b[1;33m=\u001b[0m \u001b[0munique_value_groups\u001b[0m\u001b[1;33m(\u001b[0m\u001b[0mgroup\u001b[0m\u001b[1;33m)\u001b[0m\u001b[1;33m\u001b[0m\u001b[0m\n\u001b[0m\u001b[0;32m    152\u001b[0m             \u001b[0munique_coord\u001b[0m \u001b[1;33m=\u001b[0m \u001b[0mCoordinate\u001b[0m\u001b[1;33m(\u001b[0m\u001b[0mgroup\u001b[0m\u001b[1;33m.\u001b[0m\u001b[0mname\u001b[0m\u001b[1;33m,\u001b[0m \u001b[0munique_values\u001b[0m\u001b[1;33m)\u001b[0m\u001b[1;33m\u001b[0m\u001b[0m\n\u001b[0;32m    153\u001b[0m \u001b[1;33m\u001b[0m\u001b[0m\n",
      "\u001b[1;32m/scratch/ap587/envs/ipyserv/lib/python2.7/site-packages/xarray/core/groupby.pyc\u001b[0m in \u001b[0;36munique_value_groups\u001b[1;34m(ar)\u001b[0m\n\u001b[0;32m     29\u001b[0m         \u001b[0mthe\u001b[0m \u001b[0mcorresponding\u001b[0m \u001b[0mvalue\u001b[0m \u001b[1;32min\u001b[0m \u001b[1;33m`\u001b[0m\u001b[0munique_values\u001b[0m\u001b[1;33m`\u001b[0m\u001b[1;33m.\u001b[0m\u001b[1;33m\u001b[0m\u001b[0m\n\u001b[0;32m     30\u001b[0m     \"\"\"\n\u001b[1;32m---> 31\u001b[1;33m     \u001b[0minverse\u001b[0m\u001b[1;33m,\u001b[0m \u001b[0mvalues\u001b[0m \u001b[1;33m=\u001b[0m \u001b[0mpd\u001b[0m\u001b[1;33m.\u001b[0m\u001b[0mfactorize\u001b[0m\u001b[1;33m(\u001b[0m\u001b[0mar\u001b[0m\u001b[1;33m,\u001b[0m \u001b[0msort\u001b[0m\u001b[1;33m=\u001b[0m\u001b[0mTrue\u001b[0m\u001b[1;33m)\u001b[0m\u001b[1;33m\u001b[0m\u001b[0m\n\u001b[0m\u001b[0;32m     32\u001b[0m     \u001b[0mgroups\u001b[0m \u001b[1;33m=\u001b[0m \u001b[1;33m[\u001b[0m\u001b[1;33m[\u001b[0m\u001b[1;33m]\u001b[0m \u001b[1;32mfor\u001b[0m \u001b[0m_\u001b[0m \u001b[1;32min\u001b[0m \u001b[0mrange\u001b[0m\u001b[1;33m(\u001b[0m\u001b[0mlen\u001b[0m\u001b[1;33m(\u001b[0m\u001b[0mvalues\u001b[0m\u001b[1;33m)\u001b[0m\u001b[1;33m)\u001b[0m\u001b[1;33m]\u001b[0m\u001b[1;33m\u001b[0m\u001b[0m\n\u001b[0;32m     33\u001b[0m     \u001b[1;32mfor\u001b[0m \u001b[0mn\u001b[0m\u001b[1;33m,\u001b[0m \u001b[0mg\u001b[0m \u001b[1;32min\u001b[0m \u001b[0menumerate\u001b[0m\u001b[1;33m(\u001b[0m\u001b[0minverse\u001b[0m\u001b[1;33m)\u001b[0m\u001b[1;33m:\u001b[0m\u001b[1;33m\u001b[0m\u001b[0m\n",
      "\u001b[1;32m/scratch/ap587/envs/ipyserv/lib/python2.7/site-packages/pandas/core/algorithms.pyc\u001b[0m in \u001b[0;36mfactorize\u001b[1;34m(values, sort, order, na_sentinel, size_hint)\u001b[0m\n\u001b[0;32m    194\u001b[0m     \u001b[0mtable\u001b[0m \u001b[1;33m=\u001b[0m \u001b[0mhash_klass\u001b[0m\u001b[1;33m(\u001b[0m\u001b[0msize_hint\u001b[0m \u001b[1;32mor\u001b[0m \u001b[0mlen\u001b[0m\u001b[1;33m(\u001b[0m\u001b[0mvals\u001b[0m\u001b[1;33m)\u001b[0m\u001b[1;33m)\u001b[0m\u001b[1;33m\u001b[0m\u001b[0m\n\u001b[0;32m    195\u001b[0m     \u001b[0muniques\u001b[0m \u001b[1;33m=\u001b[0m \u001b[0mvec_klass\u001b[0m\u001b[1;33m(\u001b[0m\u001b[1;33m)\u001b[0m\u001b[1;33m\u001b[0m\u001b[0m\n\u001b[1;32m--> 196\u001b[1;33m     \u001b[0mlabels\u001b[0m \u001b[1;33m=\u001b[0m \u001b[0mtable\u001b[0m\u001b[1;33m.\u001b[0m\u001b[0mget_labels\u001b[0m\u001b[1;33m(\u001b[0m\u001b[0mvals\u001b[0m\u001b[1;33m,\u001b[0m \u001b[0muniques\u001b[0m\u001b[1;33m,\u001b[0m \u001b[1;36m0\u001b[0m\u001b[1;33m,\u001b[0m \u001b[0mna_sentinel\u001b[0m\u001b[1;33m,\u001b[0m \u001b[0mTrue\u001b[0m\u001b[1;33m)\u001b[0m\u001b[1;33m\u001b[0m\u001b[0m\n\u001b[0m\u001b[0;32m    197\u001b[0m \u001b[1;33m\u001b[0m\u001b[0m\n\u001b[0;32m    198\u001b[0m     \u001b[0mlabels\u001b[0m \u001b[1;33m=\u001b[0m \u001b[0mcom\u001b[0m\u001b[1;33m.\u001b[0m\u001b[0m_ensure_platform_int\u001b[0m\u001b[1;33m(\u001b[0m\u001b[0mlabels\u001b[0m\u001b[1;33m)\u001b[0m\u001b[1;33m\u001b[0m\u001b[0m\n",
      "\u001b[1;32mpandas/hashtable.pyx\u001b[0m in \u001b[0;36mpandas.hashtable.Float64HashTable.get_labels (pandas/hashtable.c:10302)\u001b[1;34m()\u001b[0m\n",
      "\u001b[1;32m/scratch/ap587/envs/ipyserv/lib/python2.7/site-packages/pandas/hashtable.so\u001b[0m in \u001b[0;36mView.MemoryView.memoryview_cwrapper (pandas/hashtable.c:29882)\u001b[1;34m()\u001b[0m\n",
      "\u001b[1;32m/scratch/ap587/envs/ipyserv/lib/python2.7/site-packages/pandas/hashtable.so\u001b[0m in \u001b[0;36mView.MemoryView.memoryview.__cinit__ (pandas/hashtable.c:26251)\u001b[1;34m()\u001b[0m\n",
      "\u001b[1;31mValueError\u001b[0m: buffer source array is read-only"
     ]
    }
   ],
   "source": [
    "print(c.year)\n",
    "d = c.groupby('year')\n",
    "d = d.mean('time').isel(pfull=-1)\n",
    "fig, ax = plt.subplots()\n",
    "for yearly_t in d:\n",
    "    yearly_t.plot(ax=ax, label='year %d' % yearly_t.year.values)\n",
    "plt.legend()"
   ]
  },
  {
   "cell_type": "code",
   "execution_count": 6,
   "metadata": {
    "collapsed": false
   },
   "outputs": [
    {
     "data": {
      "text/plain": [
       "<matplotlib.contour.QuadContourSet at 0x7f31a32f4710>"
      ]
     },
     "execution_count": 6,
     "metadata": {},
     "output_type": "execute_result"
    },
    {
     "data": {
      "image/png": "[encoded data removed]",
      "text/plain": [
       "<matplotlib.figure.Figure at 0x7f32919b5450>"
      ]
     },
     "metadata": {},
     "output_type": "display_data"
    }
   ],
   "source": [
    "dayg = c.temp.groupby('day').mean('time').isel(pfull=-1)\n",
    "fig, ax = plt.subplots()\n",
    "dayg.plot.contourf(x='day',y='lat', levels=15)"
   ]
  }
 ],
 "metadata": {
  "kernelspec": {
   "display_name": "Python 2",
   "language": "python",
   "name": "python2"
  },
  "language_info": {
   "codemirror_mode": {
    "name": "ipython",
    "version": 2
   },
   "file_extension": ".py",
   "mimetype": "text/x-python",
   "name": "python",
   "nbconvert_exporter": "python",
   "pygments_lexer": "ipython2",
   "version": "2.7.11"
  }
 },
 "nbformat": 4,
 "nbformat_minor": 0
}
