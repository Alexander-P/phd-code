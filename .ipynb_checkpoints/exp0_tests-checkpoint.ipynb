{
 "cells": [
  {
   "cell_type": "code",
   "execution_count": 1,
   "metadata": {
    "collapsed": true
   },
   "outputs": [],
   "source": [
    "%matplotlib inline\n",
    "import numpy as np\n",
    "import scipy.ndimage\n",
    "from mpl_toolkits.axes_grid1 import make_axes_locatable\n",
    "import matplotlib.pyplot as plt\n",
    "import matplotlib\n",
    "import xarray as xr\n",
    "import pandas as pd\n",
    "import dask\n",
    "import os.path\n",
    "from __future__ import division\n",
    "matplotlib.rcParams['figure.figsize'] = (8.0, 6.0)\n",
    "\n",
    "\n",
    "from useful import *\n",
    "\n",
    "global data_dir\n",
    "data_dir = '/scratch/ap587/dry_data/'"
   ]
  },
  {
   "cell_type": "code",
   "execution_count": 9,
   "metadata": {
    "collapsed": false,
    "scrolled": false
   },
   "outputs": [
    {
     "name": "stdout",
     "output_type": "stream",
     "text": [
      "<xarray.Dataset>\n",
      "Dimensions:  (lat: 64, latb: 65, lonb: 129, pfull: 30, phalf: 31)\n",
      "Coordinates:\n",
      "  * phalf    (phalf) float64 0.0 33.33 66.67 100.0 133.3 166.7 200.0 233.3 ...\n",
      "  * latb     (latb) float64 -90.0 -86.58 -83.76 -80.96 -78.16 -75.36 -72.57 ...\n",
      "  * lonb     (lonb) float64 -1.406 1.406 4.219 7.031 9.844 12.66 15.47 18.28 ...\n",
      "  * pfull    (pfull) float64 12.26 49.05 82.77 116.3 149.7 183.1 216.5 249.8 ...\n",
      "  * lat      (lat) float64 -87.86 -85.1 -82.31 -79.53 -76.74 -73.95 -71.16 ...\n",
      "    time     float64 351.0\n",
      "Data variables:\n",
      "    ps       (lat) float64 9.154e+04 9.184e+04 9.238e+04 9.311e+04 9.395e+04 ...\n",
      "    temp     (pfull, lat) float64 173.3 173.5 174.0 174.7 175.8 177.2 178.9 ...\n",
      "    ucomp    (pfull, lat) float64 5.315 12.49 20.3 28.72 37.4 45.66 52.9 ...\n",
      "    vcomp    (pfull, lat) float64 0.001791 0.00163 0.004415 0.01882 0.04361 ...\n",
      "    bk       (phalf) float64 0.0 0.03333 0.06667 0.1 0.1333 0.1667 0.2 ...\n",
      "    vor      (pfull, lat) float64 -4.5e-05 -4.701e-05 -4.99e-05 -5.228e-05 ...\n",
      "    teq      (pfull, lat) float64 185.3 185.2 184.5 184.1 184.1 184.6 185.6 ...\n",
      "    div      (pfull, lat) float64 1.14e-08 1.574e-09 3.014e-08 8.3e-08 ...\n",
      "    omega    (pfull, lat) float64 -1.255e-05 -8.366e-07 -3.256e-05 ...\n"
     ]
    }
   ],
   "source": [
    "def testfun(exp):\n",
    "    runs = range(0,5)\n",
    "    runset = open_runset(data_dir, exp,runs)    \n",
    "    \n",
    "    runset.drop(['ps','vor','div']) \n",
    "    c = runset.mean('lon')\n",
    "    c.time.data = c.time.data/24\n",
    "    print(c)\n",
    "    #c.load()\n",
    "    \n",
    "    #data = {'omega':c.omega.data, 'vcomp':c.vcomp.data, 'time':c.time.data, 'pfull':c.pfull.data, 'lat':c.lat.data}\n",
    "    #psi = cal_stream_fn(data)\n",
    "    #c['psi'] = (('time','pfull','lat'),psi)\n",
    "    \n",
    "    do_log = 0\n",
    "    vmaxt = 300\n",
    "    vmint = 200\n",
    "    vmaxu = 25\n",
    "    vmaxsf = 0.5e11\n",
    "    \n",
    "    \n",
    "    \n",
    "    #plot_timeseries(c.teq, 'exp'+exp+'teq timeseries')\n",
    "    #plot_timeseries(c.temp, 'exp'+exp+'temp timeseries')\n",
    "    #plot_grid_sf(c, 'Annual Mean for exp' + exp, do_log=do_log, vmaxt=vmaxt, vmint=vmint,vmaxu=vmaxu,vmaxsf=vmaxsf)\n",
    "     \n",
    "    return c\n",
    "\n",
    "\n",
    "    \n",
    "exp = '0_test1/'\n",
    "c = testfun(exp)\n"
   ]
  },
  {
   "cell_type": "code",
   "execution_count": null,
   "metadata": {
    "collapsed": false,
    "scrolled": false
   },
   "outputs": [],
   "source": [
    "lhalf = np.array([-5.65297628e-05 ,  1.67016276e-04  , 2.82860288e-04  , 3.03908944e-04,\n",
    "   1.21139983e-04 , -1.66220734e-04,  -4.72422799e-05 ,  3.06479439e-04,\n",
    "   6.70444187e-04 ,  1.13132098e-03 ,  1.79086721e-03 ,  2.31039372e-03,\n",
    "   2.59153556e-03 ,  2.71285003e-03 ,  2.74575303e-03 ,  2.70820606e-03,\n",
    "   2.59352545e-03 ,  2.44352854e-03 ,  2.23414351e-03 ,  2.20708513e-03,\n",
    "   2.01329314e-03 ,  1.74875298e-03 ,  9.61044465e-04 , -2.07529328e-05,\n",
    "  -7.97192195e-04 , -1.87087786e-03 , -2.54887406e-03 , -3.92095840e-03,\n",
    "  -5.32527524e-03  ,-7.78498028e-03 , -1.36227460e-02])\n",
    "heights = np.array([28405.65598861,  21532.37501293,  18266.71776349,  16009.2898625,\n",
    "  14274.90899453 , 12864.32857213 , 11674.78075756,  10645.99547379,\n",
    "   9739.50415659 ,  8929.21906136 ,  8196.61968246 ,  7528.07697183,\n",
    "   6913.26663812 ,  6344.17870018 ,  5814.47280124 ,  5319.04369608,\n",
    "   4853.71962368 ,  4415.04755625,   4000.13690421 ,  3606.54355213,\n",
    "   3232.18234012 ,  2875.26000321 ,  2534.22308265  , 2207.71696702,\n",
    "   1894.55332483 ,  1593.68394558 ,  1304.17953286 ,  1025.21236482,\n",
    "    756.04200533 ,   496.00344328 ,   244.49718102])\n",
    "phalfk = np.array([ 2.49738788,  3.22632856 , 3.64378766,  3.96353304,  4.22812699 , 4.45629428,\n",
    "  4.65825201 , 4.84028192 , 5.00655959 , 5.16001928  ,5.30281112 , 5.43656312,\n",
    "  5.56254094,  5.68175015 , 5.79500437,  5.90297225 , 6.00621064  ,6.10518877,\n",
    "  6.20030609,  6.29190577 , 6.38028498,  6.46570299 , 6.54838747, 6.62853953,\n",
    "  6.70633782 , 6.78194179 , 6.85549444,  6.92712454 , 6.99694851  ,7.06507197,\n",
    "  7.13159109])\n",
    "lhalf = lhalf[::-1]\n",
    "heights = heights[::-1]\n",
    "phalfk=phalfk[::-1]\n",
    "h_trop = 0\n",
    "crit_lapse = 2/1000     # critical lapse rate (K/m)\n",
    "r_depth = 2000          # required depth (m) if lapse rate is below crit_lapse for this depth, tropopause is defined\n",
    "k = 2/7\n",
    "g = 9.81\n",
    "rdgas = 287.05\n",
    "j = 1\n",
    "no_trop = 1\n",
    "has_been_pos = 0\n",
    "while (no_trop) and (j<len(phalfk)):\n",
    "    #print('searching for tropopause: %d' % j) \n",
    "    #print('lapse rate is: %.4f' % lhalf[j])\n",
    "    if (lhalf[j] <= crit_lapse) & has_been_pos:        \n",
    "        is_within_2k = (heights-heights[j]) < r_depth\n",
    "        is_above =  heights-heights[j] > 0\n",
    "        ind = is_within_2k & is_above\n",
    "        is_below_cl = lhalf[ind] < crit_lapse\n",
    "        if is_below_cl.all():            \n",
    "            no_trop = 0\n",
    "            p_tropk = phalfk[j-1] + (phalfk[j] - phalfk[j-1])/(lhalf[j] - lhalf[j-1])*(crit_lapse-lhalf[j-1])\n",
    "            h_trop = rdgas*260/g*np.log(1000/p_tropk**(1/k))\n",
    "            #print('Found tropopause, height: %.2f' % h_trop)\n",
    "    if lhalf[j] > 0:\n",
    "        has_been_pos = 1\n",
    "    j += 1\n",
    "\n",
    "\n",
    "print heights\n",
    "print lhalf"
   ]
  },
  {
   "cell_type": "code",
   "execution_count": 30,
   "metadata": {
    "collapsed": false
   },
   "outputs": [
    {
     "name": "stdout",
     "output_type": "stream",
     "text": [
      "<xarray.Dataset>\n",
      "Dimensions:  (lat: 64, latb: 65, lonb: 129, pfull: 30, phalf: 31, time: 360)\n",
      "Coordinates:\n",
      "  * phalf    (phalf) float64 0.0 33.33 66.67 100.0 133.3 166.7 200.0 233.3 ...\n",
      "  * latb     (latb) float64 -90.0 -86.58 -83.76 -80.96 -78.16 -75.36 -72.57 ...\n",
      "  * lonb     (lonb) float64 -1.406 1.406 4.219 7.031 9.844 12.66 15.47 18.28 ...\n",
      "  * pfull    (pfull) float64 12.26 49.05 82.77 116.3 149.7 183.1 216.5 249.8 ...\n",
      "  * lat      (lat) float64 -87.86 -85.1 -82.31 -79.53 -76.74 -73.95 -71.16 ...\n",
      "  * time     (time) float64 1.0 2.0 3.0 4.0 5.0 6.0 7.0 8.0 9.0 10.0 11.0 ...\n",
      "Data variables:\n",
      "    ps       (time, lat) float64 1.003e+05 1.003e+05 1.003e+05 1.002e+05 ...\n",
      "    temp     (time, pfull, lat) float64 261.0 261.0 261.0 261.0 261.0 261.1 ...\n",
      "    ucomp    (time, pfull, lat) float64 0.05273 0.1784 0.3872 0.6441 0.9126 ...\n",
      "    vcomp    (time, pfull, lat) float64 -0.004902 -0.01834 -0.04028 -0.06585 ...\n",
      "    bk       (time, phalf) float64 0.0 0.03333 0.06667 0.1 0.1333 0.1667 0.2 ...\n",
      "    vor      (time, pfull, lat) float64 -5.011e-07 -8.76e-07 -1.227e-06 ...\n",
      "    teq      (time, pfull, lat) float64 198.7 192.6 189.7 188.2 187.5 187.5 ...\n",
      "    div      (time, pfull, lat) float64 -4.874e-08 -9.307e-08 -1.258e-07 ...\n",
      "    omega    (time, pfull, lat) float64 5.414e-05 0.0001086 0.0001488 ...\n"
     ]
    }
   ],
   "source": [
    "d = c.isel(time=300)\n",
    "\n",
    "print c"
   ]
  },
  {
   "cell_type": "code",
   "execution_count": null,
   "metadata": {
    "collapsed": true
   },
   "outputs": [],
   "source": []
  }
 ],
 "metadata": {
  "kernelspec": {
   "display_name": "Python 2",
   "language": "python",
   "name": "python2"
  },
  "language_info": {
   "codemirror_mode": {
    "name": "ipython",
    "version": 2
   },
   "file_extension": ".py",
   "mimetype": "text/x-python",
   "name": "python",
   "nbconvert_exporter": "python",
   "pygments_lexer": "ipython2",
   "version": "2.7.11"
  }
 },
 "nbformat": 4,
 "nbformat_minor": 0
}
